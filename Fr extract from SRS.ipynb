{
 "cells": [
  {
   "cell_type": "code",
   "execution_count": 1,
   "id": "2a0de0e8",
   "metadata": {},
   "outputs": [],
   "source": [
    "import docx2txt\n",
    "import win32com.client as win32 \n",
    "my_text = docx2txt.process(\"SRS.docx\")\n",
    "\n",
    "# filter out non-ASCII characters\n",
    "my_text = ''.join([i if ord(i) < 128 else ' ' for i in my_text])\n",
    "#find the line containing \"Functional Requirements\"\n",
    "start = my_text.find(\"Functional Requirements\")\n",
    "#print the line above it\n",
    "FRindexnumber=my_text[start-7:start]\n",
    "#remove spaces\n",
    "FRindexnumber=FRindexnumber.replace(\" \",\"\")\n",
    "headingnumber=my_text.find(FRindexnumber)\n",
    "#ignore first occurence of FRindexnumber\n",
    "headingnumber=my_text.find(FRindexnumber,headingnumber+1)\n",
    "#extract the data under the headingnumber\n",
    "start = my_text.find(\"Functional Requirements\",headingnumber)\n",
    "end = my_text.find(\"Nonfunctional Requirements\",headingnumber)\n",
    "my_text = my_text[start:end]\n",
    "# print(my_text)\n",
    "\n",
    "#print the line starting from index \"start\" to the end of the line till a number is encountered\n",
    "FRline=my_text[start:my_text.find(\"\\n\",start)]\n",
    "\n",
    "\n",
    "f = open(\"SRS.txt\", \"w\")\n",
    "f.write(my_text)\n",
    "f.close()\n",
    "\n",
    "\n"
   ]
  },
  {
   "cell_type": "code",
   "execution_count": null,
   "id": "b68b99e6",
   "metadata": {},
   "outputs": [],
   "source": [
    "import pandas as pd\n",
    "\n",
    "read_file = pd.read_csv (r'C:\\Users\\muhammad abdullah\\MLProjects/SRS.txt',\"rb\")\n",
    "read_file.to_csv (r'C:\\Users\\muhammad abdullah\\MLProjects/SRS.csv')"
   ]
  }
 ],
 "metadata": {
  "kernelspec": {
   "display_name": "Python 3 (ipykernel)",
   "language": "python",
   "name": "python3"
  },
  "language_info": {
   "codemirror_mode": {
    "name": "ipython",
    "version": 3
   },
   "file_extension": ".py",
   "mimetype": "text/x-python",
   "name": "python",
   "nbconvert_exporter": "python",
   "pygments_lexer": "ipython3",
   "version": "3.9.12"
  }
 },
 "nbformat": 4,
 "nbformat_minor": 5
}
